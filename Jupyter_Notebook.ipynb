{
 "cells": [
  {
   "cell_type": "markdown",
   "metadata": {},
   "source": [
    "<center>\n",
    "    <img src=\"https://cf-courses-data.s3.us.cloud-object-storage.appdomain.cloud/IBMDeveloperSkillsNetwork-DS0105EN-SkillsNetwork/labs/Module2/images/SN_web_lightmode.png\" width=\"300\" alt=\"cognitiveclass.ai logo\">\n",
    "</center>\n"
   ]
  },
  {
   "cell_type": "markdown",
   "metadata": {},
   "source": [
    "#### Add your code below following the instructions given in the course\n"
   ]
  },
  {
   "cell_type": "markdown",
   "metadata": {},
   "source": [
    "<H1>\"My Jupyter Notebook on IBM Watson Studio\"</H1>"
   ]
  },
  {
   "cell_type": "markdown",
   "metadata": {},
   "source": [
    "**My Name is Joohyuk Lee**<br>\n",
    "**Who is want to be Mobility Project Manager**"
   ]
  },
  {
   "cell_type": "markdown",
   "metadata": {},
   "source": [
    "_I am interested in Data Science because I can find customer needs from lots of data_"
   ]
  },
  {
   "cell_type": "markdown",
   "metadata": {},
   "source": [
    "<H3>We can use Python, R and SQL to analyze the Data</H3>\n",
    "<H3>In Python we can use Pandas, Tensorflow, Keras, Scikit-Learn for analyzing the data</H3>"
   ]
  },
  {
   "cell_type": "code",
   "execution_count": 12,
   "metadata": {},
   "outputs": [
    {
     "name": "stdout",
     "output_type": "stream",
     "text": [
      "Put the Value that you want to change minute to Hours\n"
     ]
    },
    {
     "name": "stdin",
     "output_type": "stream",
     "text": [
      " 260\n"
     ]
    },
    {
     "name": "stdout",
     "output_type": "stream",
     "text": [
      "The Change Value of the Time is 4 h and 20 min\n",
      "\n",
      "The Code that multiply 5 to your input\n"
     ]
    },
    {
     "name": "stdin",
     "output_type": "stream",
     "text": [
      " 50\n"
     ]
    },
    {
     "name": "stdout",
     "output_type": "stream",
     "text": [
      "The result is 250\n"
     ]
    }
   ],
   "source": [
    "print(\"Put the Value that you want to change minute to Hours\")\n",
    "value_minute = input()\n",
    "to_hour1 = int(value_minute)\n",
    "hours,minutes = divmod(to_hour1,60)\n",
    "print(\"The Change Value of the Time is %d h and %d min\\n\" %(hours, minutes))\n",
    "\n",
    "print(\"The Code that multiply 5 to your input\")\n",
    "wanted = input()\n",
    "returns = int(wanted) * 5\n",
    "print(\"The result is %d\" %returns)"
   ]
  },
  {
   "cell_type": "markdown",
   "metadata": {},
   "source": [
    "|Packages Name | Using Field|\n",
    "| -------------|------------|\n",
    "|Pands         | Create DF  |\n",
    "|Matplotlib    | Plot Graph |\n",
    "|Scikit-Learn  | Machine Learning|\n",
    "|Pytorch       | Create AI Model |\n"
   ]
  },
  {
   "cell_type": "markdown",
   "metadata": {},
   "source": [
    "Actually we can calculate Normal Stress like this <br>\n",
    "If the Area of structure is $A$ and the force is $F$ <br>\n",
    "We can set Normal Stress as:<br>\n",
    "$$Normal Stress = {{F}\\over A}$$"
   ]
  },
  {
   "cell_type": "code",
   "execution_count": null,
   "metadata": {},
   "outputs": [],
   "source": []
  }
 ],
 "metadata": {
  "kernelspec": {
   "display_name": "Python",
   "language": "python",
   "name": "conda-env-python-py"
  },
  "language_info": {
   "codemirror_mode": {
    "name": "ipython",
    "version": 3
   },
   "file_extension": ".py",
   "mimetype": "text/x-python",
   "name": "python",
   "nbconvert_exporter": "python",
   "pygments_lexer": "ipython3",
   "version": "3.7.12"
  }
 },
 "nbformat": 4,
 "nbformat_minor": 4
}
